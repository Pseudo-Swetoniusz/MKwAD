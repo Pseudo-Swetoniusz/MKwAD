{
 "nbformat": 4,
 "nbformat_minor": 0,
 "metadata": {
  "colab": {
   "provenance": []
  },
  "kernelspec": {
   "name": "python3",
   "display_name": "Python 3"
  },
  "language_info": {
   "name": "python"
  }
 },
 "cells": [
  {
   "cell_type": "markdown",
   "source": [
    "# RSA\n",
    "\n",
    "Rivest Shamir Adleman (RSA) jest jednym z pierwszych algorytmów asymetrycznych. Został zaprojektowany w 1977 roku i jest używany do dzisiejszego dnia. Zyskał akceptację zarówno NISTu jak i organizacji ISO/IEC oraz RFC. RSA posiada parę kluczy - publiczny oraz prywatny. Publiczny klucz może być znany każdemu i służy on do operacji szyfrowania. Klucz prywatny jest znany tylko i wyłącznie instancji, która klucze generowała. Ta sama instancja jako jedna jedyna ma możliwość odszyfrowania kryptogramów.\n",
    "\n",
    "RSA umożliwia także tworzenie podpisów cyfrowych (z ang *Digital Signatures*, czyli *DS*). Podpis cyfrowy to dodatkowy blok informacji dołączony do wiadomości, który zapewnia:\n",
    "1. *Integrity* - integralność wiadomości, czyli potwierdzenie, że nie była ona w żaden sposób modyfikowana.\n",
    "2. *Authentication* - autentykacje podpisującego, czyli potwierdzenie jego tożsamości.\n",
    "3. *Non-repudiation* - czyli wysyłający podpisaną wiadomość nie ma możliwości zaprzeczenia faktu, że to on ją podpisał, natomiast otrzymujący wiadomość nie ma możliwości zaprzeczenia faktu, iż to on ją zweryfikował. \n",
    "\n",
    "Samo haszowanie wiadomości zapewnia tylko *integirty*, natomiast utworzenie kodu MAC (*Message Authentiaction Code*) zapewnia jedynie *integrity* oraz *authentiaction*.\n",
    "\n",
    "Tworzenie podpisu cyfrowego z wykorzystaniem RSA wygląda odwrotnie niż komunikacja szyfrowana. To znaczy: podpis tworzony jest z wykorzystaniem klucza prywatnego - a więc tylko instancja generująca klucze może wiadomość podpisać. Weryfikacja odbywa się z wykorzystaniem klucza publicznego - czyli każda instancja, której nasz klucz udostępnimy, może podpis zweryfikować. \n",
    "\n",
    "Na początek zaimportujmy niezbędne biblioteki."
   ],
   "metadata": {
    "id": "O4N_EaD6qK27"
   }
  },
  {
   "cell_type": "code",
   "source": [
    "!pip install pycryptodome\n",
    "import Crypto.Util.number as cu\n",
    "import hashlib as hl\n",
    "import math"
   ],
   "metadata": {
    "id": "F7OxWY2Mz7BD"
   },
   "execution_count": 3,
   "outputs": [
    {
     "name": "stdout",
     "output_type": "stream",
     "text": [
      "Requirement already satisfied: pycryptodome in c:\\users\\jbtok\\desktop\\studia_szkola\\studia\\semestr8\\kryptografia\\labs\\venv\\lib\\site-packages (3.17)\n"
     ]
    },
    {
     "name": "stderr",
     "output_type": "stream",
     "text": [
      "WARNING: Ignoring invalid distribution -ip (c:\\python310\\lib\\site-packages)\n",
      "WARNING: Ignoring invalid distribution -ip (c:\\python310\\lib\\site-packages)\n",
      "WARNING: You are using pip version 21.3.1; however, version 23.1.2 is available.\n",
      "You should consider upgrading via the 'C:\\Users\\jbtok\\Desktop\\studia_szkola\\studia\\semestr8\\Kryptografia\\labs\\venv\\Scripts\\python.exe -m pip install --upgrade pip' command.\n"
     ]
    }
   ]
  },
  {
   "cell_type": "markdown",
   "source": [
    "**Zadanie 1**\n",
    "\n",
    "Odpowiedz na poniższe pytania. Rozważ sytuację, w której dwie instancje komunikują się ze sobą, a trzecia próbuje dokonywać nieautoryzowanych zmian w treści wiadomości na drodze jej przesyłu.\n",
    "1. Dlaczego haszowanie zapewnia tylko integrity? Podpowiedź: czy haszowanie uwzględnia jakikolwiek klucz prywatny?\n",
    "2. Dlaczego kod MAC nie zapewnia *non-repudiation*? Co (niepożądanego) może dokonać odbierający wiadomość i atakujący komunikację? Podpowiedź: czy kody MAC, w szczególności popularny kod HMAC - który zakłada użycie klucza prywatnego - w jakikolwiek sposób weryfikuje KTO i DO CZEGO go użył? Kto dysponuje, a kto NIE dysponuje kluczem prywatnym HMAC?\n",
    "3. Dlaczego podpis cyfrowy zapewnia wszystkie te trzy cechy?"
   ],
   "metadata": {
    "id": "64vuvjiEuP3M"
   }
  },
  {
   "cell_type": "markdown",
   "source": [
    "1. Funkcja haszująca pozwala na sprawdzenie, że dana wiadomość po przehaszowaniu wciąż da odpowiedni wynik - co pozwala na zapewnienie integrity. Jeśli dojdzie do zmiany wiadomości, zmieni sie także wynik funkcji haszującej. Nie zapewnia autentykacji ani Non-repudiation - nie istnieje mechanizm pozwalający na weryfikację wysyłającego (taka sama wiadomosć wysłana przez róże osoby, da ten sam hasz) ani zapewniający, że obaj uczestnicy komunikacji dokonali podpisu (każdy może zarówno wysłać wiadomość, jak i ją zweryfikować).\n",
    "2. Kod MAC pozwala na sprawdzenie integrity - posiadacz klucza może dokonać ponownego utworzenia kodu MAC na podstawie wiadomości i sprawdzić, czy doszło do zmian. Zapewnia również autentykację przez wykorzystanie tajnego klucza - tylko osoby, które go posiadają mogą utworzyć kod MAC. Nie zapewnia natomiast non-repudiation - użycie wyłącznie klucza prywatnego nie rozróżnia komunikujących się.\n",
    "3. Podpis cyfrowy zapewnia integrity ponieważ pozwala na sprawdzenie, czy doszło do zmiany wiadomości, a także autentykację, bo nadawca tworzy podpis tajnym kluczem, a odbiorca ma do dyspozycji klucz publiczny. Podział kluczy pozwala także na non-repudiation - podpis utworzony przy użyciu klucza prywatnego z pary będzie odpowiadał kluczowi publicznemu, a oba są generowane przez tę samą stronę."
   ],
   "metadata": {
    "collapsed": false
   }
  },
  {
   "cell_type": "markdown",
   "source": [
    "## Generowanie kluczy\n",
    "\n",
    "Algorytm generowania kluczy RSA może zostać przedstawiony w następujący sposób:\n",
    "\n",
    "1) Znajdź dwie różne i kryptograficznie bezpieczne liczby pierwsze.\n",
    "\n",
    "2) Oblicz $n = p * q$.\n",
    "\n",
    "3) Oblicz $f = (p - 1) * (q - 1)$.\n",
    "\n",
    "4) Znajdź dowolne $e$, takie, że $1 < e < f$ oraz $GCD(f, e) = 1$. GCD to największy wspólny dzielnik. Para $(e, n)$ to jest **klucz publiczny**.\n",
    "\n",
    "5) Oblicz $d = e^{-1}$ mod $f$. Para $(d, n)$ to **klucz prywatny**, przy czym tajne jest tylko $d$. "
   ],
   "metadata": {
    "id": "2qE7Uzp2xXKM"
   }
  },
  {
   "cell_type": "markdown",
   "source": [
    "W ten sposób generowane parametry byłyby matematycznie poprawne, lecz kryptograficznie niebezpieczne. Ustalmy więc, że chcemy aby nasz klucz publiczny był odpwowiednio długi. Będzie to długość bitowa parametru $n$, oznaczmy ją jako $nlen = 2048$. Parametr $nlen$ zawsze przyjmuje parzyste wartości. Mając to założenie, musimy (**uwzględniając wszystkie założenia z algorytmu generowania kluczy**) dodatkowo zapewnić, że:\n",
    "\n",
    "1. $65537 ≤ e < 2^{256}$\n",
    "2. $LCM(p - 1, q - 1) \\geq e * 2^{nlen/2}$\n",
    "3. $2^{(nlen - 1)//2} < p < 2^{nlen/2}$\n",
    "4. $2^{(nlen - 1)//2} < q < 2^{nlen/2}$\n",
    "5. $|p - q| > 2^{(nlen/2) - 100}$\n",
    "\n",
    "Gdzie LCM oznacza *Least Common Multiple*, czyli najmniejszą wspólną wielokrotność. Funkcję LCM znajdziesz w bibliotece math. Do potęgowania **nie używaj** pythonowej notacji \"**\", tylko metody pow() - przetestuj obie te metody obliczania potęgi i porównaj wydajność (zadanie opcjonalne). Do obliczania wartości bezwzględnej użyj metody abs() - również standardowa metoda pythona. Resztę niezbędnych metod znajdziesz w bibliotece [Crypto.Util.number](https://pycryptodome.readthedocs.io/en/latest/src/util/util.html) zaimpoertowanej jako cu. Opis powyższych założeń możesz znaleźć w [tym](https://nvlpubs.nist.gov/nistpubs/SpecialPublications/NIST.SP.800-56Br2.pdf) dokumencie NIST-owym."
   ],
   "metadata": {
    "id": "1MRcuBhC0UHA"
   }
  },
  {
   "cell_type": "markdown",
   "source": [
    "**Zadanie 2**\n",
    "\n",
    "Uwzględniając wszystko powyższe, napisz metodę/metody generujące wartości $n$, $e$ oraz $d$."
   ],
   "metadata": {
    "id": "5inlXTklGGMv"
   }
  },
  {
   "cell_type": "code",
   "source": [
    "# your code here\n",
    "nlen = 2048\n",
    "\n",
    "def get_p_q_primes():\n",
    "    cond_5 = False\n",
    "    cond_4 = False\n",
    "    cond_3 = False\n",
    "    while (cond_3== False) or (cond_4 == False) or (cond_5 == False):\n",
    "        p = cu.getPrime((nlen)//2)\n",
    "        q = cu.getPrime((nlen)//2)\n",
    "        q_same = q == p\n",
    "        while q_same:\n",
    "            q = cu.getPrime(nlen//2 -1)\n",
    "            q_same = q == p\n",
    "        if pow(2, (nlen - 1) // 2) < p < pow(2, (nlen) // 2):\n",
    "            cond_3 = True\n",
    "        if pow(2, (nlen - 1) // 2) < q < pow(2, (nlen) // 2):\n",
    "            cond_4 = True\n",
    "        if abs(p-q) > pow(2, (nlen/2)-100):\n",
    "            cond_5 = True\n",
    "    return p, q\n",
    "\n",
    "def get_ned():\n",
    "    cond_1 = False\n",
    "    cond_2 = False\n",
    "    while (cond_1== False) or (cond_2 == False):\n",
    "        p,q = get_p_q_primes()\n",
    "        n = p*q\n",
    "        f = (p-1)*(q-1)\n",
    "        e = cu.getRandomInteger(255)\n",
    "        while math.gcd(f, e) != 1 and (e < f) and (e > 1):\n",
    "            e = cu.getRandomInteger(255)\n",
    "        if 65537 <= e < pow(2, 256):\n",
    "            cond_1 = True\n",
    "        if math.lcm(p-1, q-1) >= e * pow(2, nlen//2):\n",
    "            cond_2 = True\n",
    "    d = cu.inverse(e, f)\n",
    "    return n, e, d\n"
   ],
   "metadata": {
    "id": "tRiOWsS7GRL9"
   },
   "execution_count": 4,
   "outputs": []
  },
  {
   "cell_type": "code",
   "execution_count": 5,
   "outputs": [
    {
     "name": "stdout",
     "output_type": "stream",
     "text": [
      "18215259705928079982913256578173332268081255138713887895126022963655664296326863809006949002689920014043061241829348383911070288574769665681540389650987006808941565563757947061454045638688573026732288765364271192952120192895559058081981247234761558025625342548712603958448740975586581357797208630782517657619940146128897293045004631364560786847962283825919589728572447832945502510895428398648781772191561639500782081301125379906714462730456853644949176856794206472717063215914986268057490975505814348896956489644084752523153033903891371197992758481567040658343861742701934084165537451840585468514425853837066282018823 25489830826990041704899064645937917923311627492831472722345844826914054535083 4765862562099718028398384971083963452022293405988297432440396490850597818314829506605568725263605009506862678551817725958944619044751525152614338963473789447260406004464033524426637859038995803494037647501728811755703677275969487432301218217563076647226893930576977448742986052324517251757988077958072556057620005521629111722513975753930697231058263195388613857717853270749761053542571106493702942966100195603331671667406858347901218625490277686994581993841731122016918531722196512708050194531142398052027013415443540602726340856651463395054284351877802496324527938950272557516008204667322558613739927693998727217507\n"
     ]
    }
   ],
   "source": [
    "n,e,d = get_ned()\n",
    "print(n,e,d)"
   ],
   "metadata": {
    "collapsed": false
   }
  },
  {
   "cell_type": "markdown",
   "source": [
    "## Naiwne szyfrowanie i deszyfrowanie"
   ],
   "metadata": {
    "id": "wae-whoNGlz_"
   }
  },
  {
   "cell_type": "markdown",
   "source": [
    "\n",
    "Naiwny algorytm szyfrowania wiadomości **M** z wykorzystaniem RSA:\n",
    "\n",
    "1) Zakoduj $M$ jako liczbę.\n",
    "\n",
    "2) Oblicz: $C = M^e$ mod $n$."
   ],
   "metadata": {
    "id": "fESNrzCYNVfy"
   }
  },
  {
   "cell_type": "markdown",
   "source": [
    "Naiwny algorytm deszyfrowania kryptogramu **C** z wykorzystaniem RSA:\n",
    "\n",
    "1) $M = C^d$ mod $n$.\n",
    "\n",
    "2) Zdekoduj wiadomość $M$ do jej pierwotnej postaci (np. stringa). \n"
   ],
   "metadata": {
    "id": "FQvVgWWrHBX2"
   }
  },
  {
   "cell_type": "markdown",
   "source": [
    "**Zadanie 3**\n",
    "\n",
    "Napisz metody szyfrujące i deszyfrujące wiadomość $M$ zgodnie z powyższym algorytmem. Zaszyfruj wiadomość, zdeszyfruj i wypisz oryginalny tekst na ekranie. Odpowiedz na pytanie: jaki warunek musi spełniać liczbowa reprezentacja wiadomości $M$, aby można ją było poprawnie zaszyfrować i zdeszyfrować?"
   ],
   "metadata": {
    "id": "mFRFP0BsHc9l"
   }
  },
  {
   "cell_type": "code",
   "execution_count": 6,
   "outputs": [],
   "source": [
    "def encode(e, n, M):\n",
    "    m = cu.bytes_to_long(bytes(M, \"ascii\"))\n",
    "    C = pow(m,e,n)\n",
    "    return C\n",
    "\n",
    "def decode(d, n, C):\n",
    "    m = pow(C, d, n)\n",
    "    length = math.ceil(m.bit_length() / 8)\n",
    "    return cu.long_to_bytes(m, length)"
   ],
   "metadata": {
    "collapsed": false
   }
  },
  {
   "cell_type": "code",
   "execution_count": 7,
   "outputs": [
    {
     "name": "stdout",
     "output_type": "stream",
     "text": [
      "18215259705928079982913256578173332268081255138713887895126022963655664296326863809006949002689920014043061241829348383911070288574769665681540389650987006808941565563757947061454045638688573026732288765364271192952120192895559058081981247234761558025625342548712603958448740975586581357797208630782517657619940146128897293045004631364560786847962283825919589728572447832945502510895428398648781772191561639500782081301125379906714462730456853644949176856794206472717063215914986268057490975505814348896956489644084752523153033903891371197992758481567040658343861742701934084165537451840585468514425853837066282018823 25489830826990041704899064645937917923311627492831472722345844826914054535083 4765862562099718028398384971083963452022293405988297432440396490850597818314829506605568725263605009506862678551817725958944619044751525152614338963473789447260406004464033524426637859038995803494037647501728811755703677275969487432301218217563076647226893930576977448742986052324517251757988077958072556057620005521629111722513975753930697231058263195388613857717853270749761053542571106493702942966100195603331671667406858347901218625490277686994581993841731122016918531722196512708050194531142398052027013415443540602726340856651463395054284351877802496324527938950272557516008204667322558613739927693998727217507\n"
     ]
    }
   ],
   "source": [
    "M = \"Ala ma kota\"\n",
    "print(n, e, d)"
   ],
   "metadata": {
    "collapsed": false
   }
  },
  {
   "cell_type": "code",
   "execution_count": 8,
   "outputs": [
    {
     "name": "stdout",
     "output_type": "stream",
     "text": [
      "16065795379733888948177478166638275578649919155989809183605754395986506692562485832404088048555085591684008117785400329286516869021027829583556292949709533862370971876736085502971136272024541585329691953960456510095304699435706235752866618404754337102416563979066708006549128428465856564911667919946219498425062237767600594054867223883261743097659849594013907589355358544145501043720442642161629944692979370612989472232982692317629716462460750009836048712463064891091564970431419347938411354113729364942941767891186431903923171664666788469779333425850076226138859415541404636240320680019593159142700980792434672012800\n"
     ]
    }
   ],
   "source": [
    "C = encode(e, n, M)\n",
    "print(C)"
   ],
   "metadata": {
    "collapsed": false
   }
  },
  {
   "cell_type": "code",
   "execution_count": 9,
   "outputs": [
    {
     "name": "stdout",
     "output_type": "stream",
     "text": [
      "b'Ala ma kota'\n"
     ]
    }
   ],
   "source": [
    "m = decode(d, n, C)\n",
    "print(m)"
   ],
   "metadata": {
    "collapsed": false
   }
  },
  {
   "cell_type": "markdown",
   "source": [
    "## Naiwny schemat podpisu cyfrowego"
   ],
   "metadata": {
    "id": "NjF8Fr_dN0s6"
   }
  },
  {
   "cell_type": "markdown",
   "source": [
    "Naiwna metoda tworzenia podpisu z wiadmości $M$:\n",
    "\n",
    "1) Oblicz $h = H(M)$. H to uzgodniona funkcja skrótu, niech to będzie SHA-256.\n",
    "\n",
    "2) Zakoduj $h$ jako liczbę.\n",
    "\n",
    "3) Oblicz $SIG = h^d$ mod $n$.\n",
    "\n",
    "4) Wyślij parę $(M, SIG)$ weryfikującemu."
   ],
   "metadata": {
    "id": "AsvkSf9zN4i8"
   }
  },
  {
   "cell_type": "markdown",
   "source": [
    "Naiwna metoda weryfikacji podpisu $(M, SIG)$:\n",
    "\n",
    "1) Oblicz $h = H(M)$. H to uzgodniona funkcja skrótu, niech to będzie SHA-256.\n",
    "\n",
    "2) Zakoduj $h$ jako liczbę.\n",
    "\n",
    "3) Oblicz $VER = SIG^e$ mod $n$.\n",
    "\n",
    "4) Jeżeli $VER = h$, weryfikacja przebiegła pomyślnie, a w przeciwnym razie niepomyślnie."
   ],
   "metadata": {
    "id": "xcMiT4DhOoOt"
   }
  },
  {
   "cell_type": "markdown",
   "source": [
    "**Zadanie 4**\n",
    "\n",
    "Zaimplementuj naiwną metodę tworzenia i weryfikowania podpisu cyfrowego RSA."
   ],
   "metadata": {
    "id": "Jx86zFg6PDDs"
   }
  },
  {
   "cell_type": "code",
   "source": [
    "from Crypto.Hash import SHA256\n",
    "\n",
    "def H(M):\n",
    "    h = SHA256.new(M)\n",
    "    return h.digest()\n",
    "\n",
    "def get_signature(M, d, n):\n",
    "    h = H(M)\n",
    "    h_n = cu.bytes_to_long(h)\n",
    "    SIG = pow(h_n, d, n)\n",
    "    return SIG\n",
    "\n",
    "def verify_signature(M,SIG, e, n):\n",
    "    h = H(M)\n",
    "    h_n = cu.bytes_to_long(h)\n",
    "    VER = pow(SIG, e, n)\n",
    "    if VER == h_n:\n",
    "        return True\n",
    "    else:\n",
    "        return False"
   ],
   "metadata": {
    "id": "Y7OSfmf0PJ2Q"
   },
   "execution_count": 10,
   "outputs": []
  },
  {
   "cell_type": "code",
   "execution_count": 11,
   "outputs": [
    {
     "name": "stdout",
     "output_type": "stream",
     "text": [
      "b'\\x12K\\xfbb\\x84\\xd8/;\\x11\\x05\\xf8\\x8e>z\\x0e\\xe0-\\x0eRQ\\x93A<\\x05\\xb7PA\\x91p\"\\xcdn'\n"
     ]
    }
   ],
   "source": [
    "mes = 'Ala ma kota'\n",
    "print(H(bytes(mes, \"ascii\")))"
   ],
   "metadata": {
    "collapsed": false
   }
  },
  {
   "cell_type": "code",
   "execution_count": 12,
   "outputs": [
    {
     "name": "stdout",
     "output_type": "stream",
     "text": [
      "7176255022475825054613482488439075686779074747535751484307695791566355991588460435769649229849579395935195104682228039634550278649863614327749311852677349046214153705300557775305023635914656748592725876401658573925224881412551818637778157243271781145117927319991746020008488918798923473107252332769339181142128368980378617615203361463854213258204099961353404306226863377369461824743622260205716334064991830949498542995981153512343881715603610240934223029300453390071123344175427296294115045672336566807185631645343212815843282490299441341191381142039923623994156578883389859442181256193136184337139493295595304391432\n"
     ]
    }
   ],
   "source": [
    "sig = get_signature(bytes(mes, \"ascii\"), d, n)\n",
    "print(sig)"
   ],
   "metadata": {
    "collapsed": false
   }
  },
  {
   "cell_type": "code",
   "execution_count": 13,
   "outputs": [
    {
     "name": "stdout",
     "output_type": "stream",
     "text": [
      "True\n"
     ]
    }
   ],
   "source": [
    "print(verify_signature(bytes(mes, \"ascii\"),sig, e, n))"
   ],
   "metadata": {
    "collapsed": false
   }
  },
  {
   "cell_type": "markdown",
   "source": [
    "## MGF 1\n",
    "\n",
    "W dalszej części laboratoriów będziemy potrzebowali generować maskę. Jedynym zatwierdzonym algorytmem który do tego służy jest *Mask Generation Function 1*, opisany w [RFC 8017](https://www.rfc-editor.org/rfc/rfc8017). Jest on stosunkowo prosty. "
   ],
   "metadata": {
    "id": "-6MsXDuaIj2C"
   }
  },
  {
   "cell_type": "markdown",
   "source": [
    "Parametry wejściowe:\n",
    "\n",
    "1) M - bajty wiadomości.\n",
    "\n",
    "2) len - pożądana długość zwórconej maski w bajtach.\n",
    "\n",
    "3) H - wybrana funkcja skrótu, zwracająca $n$ bitowy skrót. Niech to będzie SHA-256. Dla wygody przyjmijmy też, że $hlen = n / 8$ oznacza liczbę bajtów zwracaną przez naszą funkcję skrótu.\n",
    "\n",
    "Wyjściem funkcji są bajty tworzące maskę."
   ],
   "metadata": {
    "id": "wXuwYrpsJzkU"
   }
  },
  {
   "cell_type": "markdown",
   "source": [
    "Algorytm MGF-1:\n",
    "\n",
    "1) Dla 32-biotwego integera $i = 0, ..., ⌈ \\frac{len}{hlen}⌉ - 1$ wykonuj kroki 2 i 3.\n",
    "\n",
    "2) Oblicz tmp = H(M || i). Znak || to konkatenacja i chodzi tu o bajty wiadomości M oraz reprezentację w bajtach 32-bitowego itegera $i$.\n",
    "\n",
    "3) Oblicz output = output || tmp.\n",
    "\n",
    "4) Zwróc $len$ wiodących bajtów zmiennej output."
   ],
   "metadata": {
    "id": "oriQJLCvJ0vM"
   }
  },
  {
   "cell_type": "markdown",
   "source": [
    "**Zadanie 5**\n",
    "\n",
    "Zaprogramuj i przetestuj dla dowolnych wartości funkcję MGF1."
   ],
   "metadata": {
    "id": "o-AkA1mHK7cp"
   }
  },
  {
   "cell_type": "code",
   "source": [
    "# Your code here\n",
    "hlen = 256//8\n",
    "def MGF1(M, len, H):\n",
    "    #m_bytes = bytes(M, \"ascii\")\n",
    "    lim = cu.ceil_div(len, hlen)\n",
    "    i = 0\n",
    "    tmp = H(M + i.to_bytes(4, \"big\"))\n",
    "    output = tmp\n",
    "    for i in range(1, lim):\n",
    "        tmp = H(M + i.to_bytes(4, \"big\"))\n",
    "        output = output + tmp\n",
    "    return output[:len]"
   ],
   "metadata": {
    "id": "rrBuKJWZLCV9"
   },
   "execution_count": 14,
   "outputs": []
  },
  {
   "cell_type": "code",
   "execution_count": 15,
   "outputs": [
    {
     "name": "stdout",
     "output_type": "stream",
     "text": [
      "b'O\\x82y,\\xd5\\x98\\x18\\xc5B7\\xc4YT\\xe6\\xfa\\x82\\xdd\\x08\\xc8\\x8d\\x9b?\\xb2\\xe2X3\\x1c\\tf%d\\x18\\xd6,\\xad\\x91\\x8eH\\x9e\\xa6\\x1b\\xf7m\\xd4\\xfcu\\xf5L\\x0f&\\x94\\x10\\x1a\\x89\\xf0e\\xcdx\\xb3\\xa3?\\x7f\\xca\\xbd.M#C\"\\xb4B\\x8d\\xd3\\xb1GB\\xe3y5\\xc9 \\xd4\\t`B\\xfa\\xa9\\x9e\\x0c#\\xea4Hb\\xe0\\x02\\xbd\\xdeG\\xd2'\n"
     ]
    }
   ],
   "source": [
    "mes = \"Ala ma kota\"\n",
    "m_bytes = bytes(mes, \"ascii\")\n",
    "print(MGF1(m_bytes, 100, H))"
   ],
   "metadata": {
    "collapsed": false
   }
  },
  {
   "cell_type": "markdown",
   "source": [
    "## OAEP\n",
    "\n",
    "Nasz schemat ma na ten moment jedną sporą wadę, mianowicie rozmiar szyfrowanej wiadomości może być zbyt mały, czyniąc algorytm mniej bezpiecznym. Aby tego uniknąć, używamy algorytmu paddingu opisanego w [RFC 8017](https://www.rfc-editor.org/rfc/rfc8017#section-8), który zwie się *Optimal Assymetric Encryption Padding*."
   ],
   "metadata": {
    "id": "K3gM9vGyPtna"
   }
  },
  {
   "cell_type": "markdown",
   "source": [
    "### OAEP encoding"
   ],
   "metadata": {
    "id": "PFJW4wW5QjjH"
   }
  },
  {
   "cell_type": "markdown",
   "source": [
    "Parametry wejściowe:\n",
    "\n",
    "1) $H$ - funkcja skrótu SHA-256, oraz $hlen$ czyli długość zwracanego skrótu w bajtach.\n",
    "\n",
    "2) $k$ - długość liczby $n$ wyrażona w bajtach.\n",
    "\n",
    "3) $mlen$ - długość wiadomości wyrażona w bajtach.\n",
    "\n",
    "4) $M$ - bajty wiadomości.\n",
    "\n",
    "5) $mgf1$ - Mask Generation Function 1."
   ],
   "metadata": {
    "id": "0BTXF8j6Reel"
   }
  },
  {
   "cell_type": "markdown",
   "source": [
    "Algorytm:\n",
    "\n",
    "1) Jeżeli $mlen > k - 2*hlen - 2$ zwróc błąd.\n",
    "\n",
    "2) Oblicz: $lHash = H(\"\")$.\n",
    "\n",
    "3) Wygeneruj tablicę bajtów $PS$ składającą się z $k - mlen - 2*hlen - 2$ bajtów o wartości 0x00. Rozmiar $PS$ może wynosić 0.\n",
    "\n",
    "4) Oblicz: $DB = lHash || PS || 0x01 || M$. Długość $DB$ powinna wynosić $k - hlen - 1$ bajtów.\n",
    "\n",
    "5) Wygeneruj losową tablicę bajtów $seed$ o rozmiarze $hlen$.\n",
    "\n",
    "6) Oblicz: $dbMask = mgf1(seed, k - hlen - 1)$.\n",
    "\n",
    "7) Oblicz: $maskedDB = DB ⊕ dbMask$.\n",
    "\n",
    "8) Oblicz: $seedMask = mgf1(maskedDB, hlen)$.\n",
    "\n",
    "9) Oblicz: $maskedSeed = seed ⊕ seedMask$.\n",
    "\n",
    "10) Oblicz: $EM = 0x00 || maskedSeed || maskedDB$. Długość $EM$ powinna wynosić $k$.\n",
    "\n",
    "11) Zwróc $EM$."
   ],
   "metadata": {
    "id": "YWse9bSFRfmu"
   }
  },
  {
   "cell_type": "markdown",
   "source": [
    "### OAEP decoding"
   ],
   "metadata": {
    "id": "lwJfZ28SUeKC"
   }
  },
  {
   "cell_type": "markdown",
   "source": [
    "Parametry wejściowe:\n",
    "\n",
    "1) $H$ - funkcja skrótu SHA-256, oraz $hlen$ czyli długość zwracanego skrótu w bajtach.\n",
    "\n",
    "2) $k$ - rozmiar EM wyrażony w bajtach.\n",
    "\n",
    "3) $mgf1$ - Mask Generation Function 1.\n",
    "\n",
    "4) $EM$ - bajty zakodowanej wiadomości."
   ],
   "metadata": {
    "id": "i21JfT9TUlXN"
   }
  },
  {
   "cell_type": "markdown",
   "source": [
    "Algorytm:\n",
    "\n",
    "1) Rozpakuj tablicę bajtów $EM$. Jej pierwszy bajt (najbardziej znaczący) przypisz do $Y$. Kolejne $hlen$ bajtów przypisz do $maskedSeed$, resztę do $maskedDB$. Czyli $EM = Y || maskedSeed || maskedDB$.\n",
    "\n",
    "2) Oblicz: $lHash = H(\"\")$.\n",
    "\n",
    "3) Oblicz: $seedMask = mgf1(maskedDB, hlen)$.\n",
    "\n",
    "4) Oblicz: $seed = maskedSeed ⊕ seedMask$.\n",
    "\n",
    "5) Oblicz: $dbMask = mgf1(seed, k - hlen - 1)$.\n",
    "\n",
    "6) Oblicz: $DB = maskedDB ⊕ dbMask$.\n",
    "\n",
    "7) Rozpkauj tablicę bakjtów $DB$. Pierwsze (najbardziej znaczące) $hlen$ bajtów przypisz do zmiennej $lHash'$. Następne $k - mlen - 2*hlen - 2$ bajtów do PS. Kolejny pojedynczy bajt powinien wynosić 0x01, jeżeli jest inaczej zwróć błąd i **zakończ działanie**. Resztę bajtów przypsiz do zmiennej $M$. Czyli: $DB = lHash' || PS || 0x01 || M$. \n",
    "\n",
    "8) Jeżeli $Y \\neq 0x00$ zwróć błąd i **zakończ działanie**.\n",
    "\n",
    "9) Jeżeli $lHash \\neq lHash'$ zwróć błąd i **zakończ działanie**.\n",
    "\n",
    "10) Zwróc $M$."
   ],
   "metadata": {
    "id": "Toe-FHBzU1n-"
   }
  },
  {
   "cell_type": "markdown",
   "source": [
    "**Zadanie 6**\n",
    "\n",
    "Zaproogramuj kodowanie i dekodowanie OAEP. Zmodyfikuj algorytm szyfrowania RSA, tak, aby przed zaszyfrowaniem wiadomość była paddingowana. Zmodyfikuj algorytm deszyfrowania tak, aby po zdeszyfrowaniu konieczne było wywołanie metody dekodowania OAEP w celu odzyskania wiadomości."
   ],
   "metadata": {
    "id": "A0yx2wepX4n1"
   }
  },
  {
   "cell_type": "code",
   "execution_count": 35,
   "outputs": [],
   "source": [
    "import random\n",
    "\n",
    "def byte_xor(bytes1, bytes2):\n",
    "    array = []\n",
    "    for b1, b2 in zip(bytes1, bytes2):\n",
    "        array.append(b1^b2)\n",
    "    return bytes(array)\n",
    "\n",
    "def OAEP_encode(H, n, M, MGF1):\n",
    "    mlen = len(M)\n",
    "    k = cu.size(n) // 8\n",
    "    x = k - 2*hlen - 2\n",
    "    if mlen > x:\n",
    "        print('Error')\n",
    "        return\n",
    "    lhash = H(bytes(\"\", \"ascii\"))\n",
    "    ps = b'\\0' * (x - mlen)\n",
    "    db = lhash + ps + b'\\1' + M\n",
    "    if len(db) != k - hlen - 1:\n",
    "        print(\"Error\")\n",
    "    seed = random.randbytes(hlen)\n",
    "    dbMask = MGF1(seed, k - hlen - 1, H)\n",
    "    maskedDB = byte_xor(db,dbMask)\n",
    "    seedMask = MGF1(maskedDB, hlen, H)\n",
    "    maskedSeed = byte_xor(seed, seedMask)\n",
    "    em = b'\\0'+maskedSeed+maskedDB\n",
    "    if len(em) != k:\n",
    "        print(\"Error\")\n",
    "        return\n",
    "    return em\n",
    "\n",
    "\n",
    "def OAEP_decode(H, n, MGF1, EM, mlen):\n",
    "    k = cu.size(n) // 8\n",
    "    Y = EM[0]\n",
    "    if Y != 0:\n",
    "        print(\"Error\")\n",
    "        return\n",
    "    maskedSeed = EM[1:hlen+1]\n",
    "    maskedDB = EM[hlen+1:]\n",
    "    lhash = H(bytes(\"\", \"ascii\"))\n",
    "    seedMask = MGF1(maskedDB, hlen, H)\n",
    "    seed = byte_xor(maskedSeed, seedMask)\n",
    "    db_mask = MGF1(seed, k - hlen - 1, H)\n",
    "    db = byte_xor(maskedDB, db_mask)\n",
    "    lhash_n = db[:hlen]\n",
    "    ps = db[hlen:hlen + (k - mlen - 2*hlen - 2)]\n",
    "    if db[hlen + (k - mlen - 2*hlen - 2)] != 1:\n",
    "        print(\"Error\")\n",
    "        print(db[hlen + (k - mlen - 2*hlen - 2)])\n",
    "        M = db[hlen + (k - mlen - 2*hlen - 2) + 1:]\n",
    "        print(M)\n",
    "        return\n",
    "    M = db[hlen + (k - mlen - 2*hlen - 2) + 1:]\n",
    "    if lhash != lhash_n:\n",
    "        print(\"Error\")\n",
    "        return\n",
    "    return M\n",
    "\n",
    "def RSA_OAEP_encode(e, n, M):\n",
    "    em = OAEP_encode(H, n, M, MGF1)\n",
    "    m = cu.bytes_to_long(em)\n",
    "    C = pow(m,e,n)\n",
    "    return C\n",
    "\n",
    "def RSA_OAEP_decode(d, n, C, mlen):\n",
    "    m = pow(C, d, n)\n",
    "    length = cu.size(n) // 8\n",
    "    em = cu.long_to_bytes(m, length)\n",
    "    M = OAEP_decode(H, n, MGF1, em, mlen)\n",
    "    return M"
   ],
   "metadata": {
    "collapsed": false
   }
  },
  {
   "cell_type": "code",
   "source": [
    "mes = bytes(M, \"ascii\")\n",
    "mlen = len(mes)\n",
    "M = \"Ala ma kota i psa\"\n",
    "EM_t = RSA_OAEP_encode(e, n, bytes(M, \"ascii\"))\n",
    "print(EM_t)"
   ],
   "metadata": {
    "id": "sA1oCpziYT6z"
   },
   "execution_count": 36,
   "outputs": [
    {
     "name": "stdout",
     "output_type": "stream",
     "text": [
      "1688076892331604154368589502559726705527707087119767574721053988884512994398377902521766707262634832006210979146261561677952249734299842018393952139792064924158971472117102899328792384906480348733504970110156492037397311209501764685578201995835677240995380256890493361240322649492222836992992508265327328446752919502144844350970914261532840197816827626130123935217732979580168240415077490881092201358573289483905840395020617347233172655792063594384542814597146985096462762089518615504329410144760343656809289039818337969667787404152614449162515682061402303188779987705120477927525659011408625469386487917220672126775\n"
     ]
    }
   ]
  },
  {
   "cell_type": "code",
   "execution_count": 37,
   "outputs": [
    {
     "name": "stdout",
     "output_type": "stream",
     "text": [
      "b'Ala ma kota i psa'\n"
     ]
    }
   ],
   "source": [
    "print(RSA_OAEP_decode(d, n, EM_t, mlen))"
   ],
   "metadata": {
    "collapsed": false
   }
  },
  {
   "cell_type": "markdown",
   "source": [
    "## EMSA - PSS\n",
    "\n",
    "Utworzenie bezpiecznej sygnatury RSA wymaga zastowania algorytmu *Encoding Method for Signature with Appendix - Probabilistic Signature Scheme* ."
   ],
   "metadata": {
    "id": "ug2e_I03YoR1"
   }
  },
  {
   "cell_type": "markdown",
   "source": [
    "### EMSA encoding"
   ],
   "metadata": {
    "id": "KrWpFTRHZSA7"
   }
  },
  {
   "cell_type": "markdown",
   "source": [
    "Parametry wejściowe:\n",
    "\n",
    "1) $H$ - funkcja skrótu SHA-256, oraz $hlen$ czyli długość zwracanego skrótu w bajtach.\n",
    "\n",
    "2) $slen$ - długość soli w bajtach, powinna być równa $hlen$.\n",
    "\n",
    "3) $M$ - bajty wiadomości do podpisania.\n",
    "\n",
    "4) $mgf1$ - Mask Generation Function 1.\n",
    "\n",
    "5) $emBits$ - pożądana długość sygnatury w bitach. Jest to najczęściej długość bitowa liczby modulus $n$ pomniejszona o jeden, czyli w naszym przypadku 2047.\n",
    "\n",
    "6) $emlen$ - długość sygnatury w bajtach, równa długości parametru $n$ wyrażonego w bajtach.\n"
   ],
   "metadata": {
    "id": "bNPN9mqIZT5F"
   }
  },
  {
   "cell_type": "markdown",
   "source": [
    "Algorytm:\n",
    "\n",
    "1) Oblicz: $mHash = H(M)$.\n",
    "\n",
    "2) Jeżeli $emlen < hlen + slen + 2$ **zakończ i zwróć błąd**.\n",
    "\n",
    "3) Wygeneruj tablicę losowych bajtów $salt$ o długości $slen$.\n",
    "\n",
    "4) Oblicz: $M' = 0x00 00 00 00 00 00 00 00 || mHash || salt$. Długość $M'$ to $8 + hlen + slen$.\n",
    "\n",
    "5) Oblicz: $mHash' = H(M')$.\n",
    "\n",
    "6) Wygeneruj tablicę $PS$ składającą się z bajtów 0x00 o długości $emlen - slen - hlen - 2$.\n",
    "\n",
    "7) Oblicz: $DB = PS || 0x01 || salt$. Długość $DB$ powinna wynosić $emlen - hlen - 1$ bajtów.\n",
    "\n",
    "8) Oblicz: $dbMask = mgf1(mHash', emlen - hlen - 1)$.\n",
    "\n",
    "9) Oblicz: $maskedDB = DB ⊕ dbMask$.\n",
    "\n",
    "10) Ustaw $8 * emlen - emBits$ **najbardziej znaczących** bitów $maskedDB$ na wartości 0.\n",
    "\n",
    "11) Oblicz: $EM = maskedDB || mHash' || 0xbc$.\n",
    "\n",
    "12) Zwróć $EM$.\n"
   ],
   "metadata": {
    "id": "6-0Vzuzf_f81"
   }
  },
  {
   "cell_type": "markdown",
   "source": [
    "## EMSA decoding"
   ],
   "metadata": {
    "id": "HWbbbw1DCGpr"
   }
  },
  {
   "cell_type": "markdown",
   "source": [
    "Parametry wejściowe:\n",
    "\n",
    "1) $H$ - funkcja skrótu SHA-256, oraz $hlen$ czyli długość zwracanego skrótu w bajtach.\n",
    "\n",
    "2) $slen$ - długość soli w bajtach, powinna być równa $hlen$.\n",
    "\n",
    "3) $EM$ - sygnatura wiadomości $M$.\n",
    "\n",
    "4) $M$ - bajty wiadomości do weryfikacji.\n",
    "\n",
    "4) $mgf1$ - Mask Generation Function 1.\n",
    "\n",
    "5) $emBits$ - długość sygnatury w bitach. Jest to najczęściej długość bitowa liczby modulus $n$ pomniejszona o jeden, czyli w naszym przypadku 2047.\n",
    "\n",
    "6) $emlen$ - długość sygnatury w bajtach, równa długości parametru $n$ wyrażonego w bajtach."
   ],
   "metadata": {
    "id": "xR6QyzduCIoc"
   }
  },
  {
   "cell_type": "markdown",
   "source": [
    "Algorytm:\n",
    "\n",
    "1) Oblicz: $mHash = H(M)$.\n",
    "\n",
    "2) Jeżeli $emlen < hlen + slen + 2$ **zakończ i zwróć błąd weryfikacji**.\n",
    "\n",
    "3) Jeżeli ostatni bajt (najmniej znaczący) $EM$ nie ma wartości 0xbc **zakończ i zwróć błąd weryfikacji**.\n",
    "\n",
    "4) Podstaw $emlen - hlen - 1$ najbardziej znaczących bajtów do $maskedDB$ oraz kolejne $hlen$ bajtów do $mHash'$.\n",
    "\n",
    "5) Jeżeli $8 * emlen - emBits$ najbardziej znaczących bitów $maskedDB$ nie ma wartości 0, **zakończ i zwróć błąd weryfikacji**.\n",
    "\n",
    "6) Oblicz: $dbMask = mgf1(mHash', emlen - hlen - 1)$.\n",
    "\n",
    "7) Oblicz: $DB = maskedDB ⊕ dbMask$.\n",
    "\n",
    "8) Ustaw $8 * emlen - emBits$ najbardziej znaczących bitów $DB$ na 0.\n",
    "\n",
    "9) Jeżeli $emlen - hlen - slen - 2$ najbardziej znaczących bajtów $DB$ nie posiada wartości 0x00 lub gdy bajt na pozycji $emlen - hlen - slen - 1$ (licząc od najbardziej znaczącego) nie posiada wartości 0x01 **zakończ i zwróć błąd weryfikacji**.\n",
    "\n",
    "10) Przypisz do zmiennej $salt$ dokładnie $slen$ najmniej znaczących bajtów $DB$.\n",
    "\n",
    "11) Oblicz: $M' = 0x00 00 00 00 00 00 00 00 || mHash || salt$. Długość $M'$ to $8 + hlen + slen$.\n",
    "\n",
    "12) Oblicz $mHash'' = H(M')$.\n",
    "\n",
    "13) Jeżeli $mHash' \\neq mHash''$ **zakończ i zwróć błąd weryfikacji**, w przeciwnym razie **weryfikacja powiodła się**.\n"
   ],
   "metadata": {
    "id": "MqZUQgT6CspI"
   }
  },
  {
   "cell_type": "markdown",
   "source": [
    "**Zadanie 7**\n",
    "\n",
    "Zaprogramuj kodowanie i dekodowanie EMSA, a następnie popraw algorytmy tworzenia i weryfikacji podpisu cyfrowego RSA. Tworzenie podpisu powinno wyglądać tak, że wiadomość najpierw jest kodowana z wykorzystaniem EMSA, a później tworzony jest popdis z wykorzystaniem klucza prywatnego. Dekodowanie powinno wyglądać tak, że najpierw używany jest klucz publiczny do odtworzenia podpisu EMSA, a następnie wykorzystywane jest dekodowanie EMSA w celu weryfikacji."
   ],
   "metadata": {
    "id": "wrxJHSkyIvz5"
   }
  },
  {
   "cell_type": "code",
   "execution_count": 33,
   "outputs": [],
   "source": [
    "def EMSA_encode(H, slen, M, MGF1, emBits, emlen):\n",
    "    mhash = H(M)\n",
    "    if emlen < hlen + slen + 2:\n",
    "        print(\"Error\")\n",
    "        return\n",
    "    salt = random.randbytes(slen)\n",
    "    zeros = b'\\0' * 8\n",
    "    m_n = zeros + mhash + salt\n",
    "    mhash_n = H(m_n)\n",
    "    ps = b'\\0' * (emlen - slen - hlen - 2)\n",
    "    db = ps + b'\\1' + salt\n",
    "    dbMask = MGF1(mhash_n, emlen - hlen -1, H)\n",
    "    dbMasked = byte_xor(db, dbMask)\n",
    "    bits = 8*emlen - emBits\n",
    "    bytes_len = len(dbMasked)\n",
    "    bites_len = bytes_len * 8\n",
    "    dbMasked_bites = \"{:08b}\".format(int(dbMasked.hex(),16)).zfill(bites_len)\n",
    "    dbM_cut = dbMasked_bites[bits:]\n",
    "    dbM_cut = dbM_cut.rjust(len(dbMasked_bites), '0')\n",
    "    dbMasked_bytes = int(dbM_cut, 2).to_bytes(bytes_len, \"big\")\n",
    "    dbMasked_bites = \"{:08b}\".format(int(dbMasked_bytes.hex(),16)).zfill(bites_len)\n",
    "    em = dbMasked_bytes + mhash_n + b'\\xbc'\n",
    "    return em\n",
    "\n",
    "def EMSA_decode(H, slen, EM, M, MGF1, emBits, emlen):\n",
    "    mhash = H(M)\n",
    "    if emlen < hlen + slen + 2:\n",
    "        print(\"Error\")\n",
    "        return\n",
    "    if EM[-1] != int(b'\\xbc'.hex(), 16):\n",
    "        print(\"Error\")\n",
    "        print(EM[-1])\n",
    "        print(int(b'\\xbc'.hex(), 16))\n",
    "        return\n",
    "    ind = emlen - hlen - 1\n",
    "    maskedDB = EM[:ind]\n",
    "    mhash_n = EM[ind:ind+hlen]\n",
    "    bits = 8*emlen - emBits\n",
    "    bytes_len = len(maskedDB)\n",
    "    bites_len = 8*bytes_len\n",
    "    dbMasked_bites = \"{:08b}\".format(int(maskedDB.hex(),16)).zfill(bites_len)\n",
    "    leading = int(dbMasked_bites[:bits], 2)\n",
    "    if leading != 0:\n",
    "        print(\"Error\")\n",
    "        return\n",
    "    dbMask = MGF1(mhash_n, emlen - hlen - 1, H)\n",
    "    db = byte_xor(maskedDB, dbMask)\n",
    "    bytes_len = len(db)\n",
    "    bites_len = bytes_len * 8\n",
    "    db_bites = \"{:08b}\".format(int(db.hex(),16)).zfill(bites_len)\n",
    "    db_cut = db_bites[bits:]\n",
    "    db_cut = db_cut.rjust(len(db_bites), '0')\n",
    "    db_bytes = int(db_cut, 2).to_bytes(bytes_len, \"big\")\n",
    "    v_bits = emlen - hlen - slen - 2\n",
    "    leading = int(db_cut[:bits], 2)\n",
    "    poz = emlen - hlen - slen - 2\n",
    "    if leading != 0 or db_bytes[poz] != 1:\n",
    "        print(\"Error\")\n",
    "        print(db_bytes[poz])\n",
    "        return\n",
    "    salt = db_bytes[-slen:]\n",
    "    zeros = b'\\0' * 8\n",
    "    nM = zeros + mhash + salt\n",
    "    if len(nM) != 8 + hlen + slen:\n",
    "        print('Error')\n",
    "        return\n",
    "    mhash_2 = H(nM)\n",
    "    if mhash_2 != mhash_n:\n",
    "        print(\"Error\")\n",
    "        return\n",
    "    return True\n",
    "\n",
    "def EMSA_get_signature(M, d, n):\n",
    "    emBits = 2047\n",
    "    emlen = nlen // 8\n",
    "    emsa_M = EMSA_encode(H, hlen, mes, MGF1, emBits, emlen)\n",
    "    h = H(M)\n",
    "    h_n = cu.bytes_to_long(h)\n",
    "    SIG = pow(h_n, d, n)\n",
    "    return SIG\n",
    "\n",
    "def EMSA_verify_signature(M,SIG, e, n):\n",
    "    emBits = 2047\n",
    "    emlen = nlen // 8\n",
    "    h = H(M)\n",
    "    h_n = cu.bytes_to_long(h)\n",
    "    emsa_VER = pow(SIG, e, n)\n",
    "    emsa_v_bytes = emsa_VER.to_bytes(emlen, 'big')\n",
    "    VER = EMSA_decode(H, hlen, em, M, MGF1, emBits, emlen)\n",
    "    if VER:\n",
    "        return True\n",
    "    else:\n",
    "        return False"
   ],
   "metadata": {
    "collapsed": false
   }
  },
  {
   "cell_type": "code",
   "source": [
    "m = \"Ala ma podpis\"\n",
    "mes = bytes(M, \"ascii\")\n",
    "mlen = len(mes)\n",
    "emBits = 2047\n",
    "emlen = nlen // 8\n",
    "em = EMSA_encode(H, hlen, mes, MGF1, emBits, emlen)\n",
    "print(em)"
   ],
   "metadata": {
    "id": "S-TbQA4NJrl3"
   },
   "execution_count": 23,
   "outputs": [
    {
     "name": "stdout",
     "output_type": "stream",
     "text": [
      "b\"x_\\xae\\xacE\\x1a\\xa2\\xe3\\x94\\xdf\\x07R\\r0\\xff^\\xca\\xca;\\xcb\\x1e\\xea\\x9ea\\xb6\\xd4Lf\\xcf\\xe4\\x03\\xca\\xcc@\\x9c\\xa7W\\xb9\\xae\\x07\\xc6\\xbd\\x8bt\\x98\\xa9\\xab%>E\\xcd\\xa1\\x1c\\x11*7\\x04\\x8a\\x10\\xc5\\xa0\\xf2\\r\\xbecP\\x1d\\xe1\\xe3yo\\xfb\\xf3mo\\xdc\\xdc\\x87\\x8b\\xc4\\xca\\xa2\\x9f\\xfb\\x9b\\xe2\\xcc\\xbb+\\xb6%\\x9b4\\xf7\\xcb\\xfd\\x82\\xad\\xc8/\\x0e\\xcb\\xa9'C\\xc2\\xf2\\xde\\xca\\xc2\\xefW\\xf1\\x87\\xc3\\xeb\\xa4\\xfb7\\xa3\\x8f\\x9b\\xe1\\x8e\\tX6\\x86\\xc2\\x04\\t\\xba\\xd1\\xf4\\xf6*r\\x9d\\xff\\xd1G\\xf2\\xd9\\xeb\\xe8\\xcc\\xef>\\xb9\\xd8\\x00:\\xe3\\xd5\\xec\\x1e\\x86\\xb6\\xb4D|V]\\xe6\\x908\\xb1\\xb9N\\x00,\\xb0\\x18\\xacuTt|F\\xb8\\xc7\\x87fa\\xa6t\\xdb\\xbf<\\x02\\xe8\\xd9\\xf1\\xd8$\\x12\\xb2\\xca H\\xae\\xa8\\xe3\\xc0o\\x9c\\xd7C\\xa4\\x07\\xe5:]5]\\xd5\\xce\\x8f;K\\x85yp\\x08Xt\\xe1|\\x8b\\xf0D\\x96\\xb3\\xfc\\xccn\\x05\\x81AC<\\x18\\xa5\\xd0\\xf6\\xf8\\x99\\t\\x1fQ\\n\\x16\\xf3r0\\xbc\"\n"
     ]
    }
   ]
  },
  {
   "cell_type": "code",
   "execution_count": 24,
   "outputs": [
    {
     "name": "stdout",
     "output_type": "stream",
     "text": [
      "True\n"
     ]
    }
   ],
   "source": [
    "print(EMSA_decode(H, hlen, em, mes, MGF1, emBits, emlen))"
   ],
   "metadata": {
    "collapsed": false
   }
  },
  {
   "cell_type": "code",
   "execution_count": 25,
   "outputs": [],
   "source": [
    "sig = EMSA_get_signature(mes, d, n)"
   ],
   "metadata": {
    "collapsed": false
   }
  },
  {
   "cell_type": "code",
   "execution_count": 26,
   "outputs": [
    {
     "name": "stdout",
     "output_type": "stream",
     "text": [
      "True\n"
     ]
    }
   ],
   "source": [
    "print(EMSA_verify_signature(mes,sig,e,n))"
   ],
   "metadata": {
    "collapsed": false
   }
  },
  {
   "cell_type": "markdown",
   "source": [
    "## RSA - KEM\n",
    "\n",
    "RSA - KEM, czyli z ang. *Key Encapsulation Mechanism* to prosty algorytm dedykowany do wymiany klucza symetrycznego. Obie strony dysponują uzgodnioną funkcją skótu H. Instancja, która chce **otrzymać** tajny klucz do komunikacji symetrycznej generuje klucze RSA i udostępnia swój klucz publiczny. Instancja, która chce wygenerować tajny klucz do komunikacji symetrycznej dysponuje kluczem publicznym instancji, która chce go otrzymać."
   ],
   "metadata": {
    "id": "d7txLS64JZI-"
   }
  },
  {
   "cell_type": "markdown",
   "source": [
    "Instancja generująca klucz symetryczny:\n",
    "\n",
    "1) Znajdź losową liczbę $RAND$ spełniającą warunki OAEP.\n",
    "\n",
    "2) Oblicz: $KEY = H(RAND)$. Jeżeli trzeba, przytnij $KEY$ do odpowiedniej długości.\n",
    "\n",
    "3) Oblicz: $CIPHERED\\_KEY = RSA\\_OAEP\\_ENCODING(KEY, (e, n))$.\n",
    "\n",
    "4) Wyślij $CIPHERED\\_KEY$."
   ],
   "metadata": {
    "id": "tl7cu30PJ1lk"
   }
  },
  {
   "cell_type": "markdown",
   "source": [
    "Instancja otrzymująca zaszyfrowany klucz symetryczny:\n",
    "\n",
    "1) Oblicz: $KEY = RSA\\_OAEP\\_DECODING(CIPHERED\\_KEY, (d, n))$\n",
    "\n",
    "2) Jeżeli trzeba przytnij $KEY$ do odpowiedniej długości."
   ],
   "metadata": {
    "id": "oFB9JAwULw70"
   }
  },
  {
   "cell_type": "markdown",
   "source": [
    "Np. AES występuje w wersji 128b, 192b i 256b. Jeżeli jako H przyjmiemy więc SHA-256, nie trzeba przycinać klucza dla algorytmu AES-256. W przeciwnym razie należy klucz odpowiednio przyciąć (z lewej lub prawej, byle obie strony tak samo) i to ta wartość staje się kluczem symetrycznym."
   ],
   "metadata": {
    "id": "386c_pDZMSRG"
   }
  },
  {
   "cell_type": "markdown",
   "source": [
    "**Zadanie 8**\n",
    "\n",
    "Zasymuluj takową wymianę (bez przycinania klucza)."
   ],
   "metadata": {
    "id": "7N66NPBBMpLS"
   }
  },
  {
   "cell_type": "code",
   "source": [
    "n,e,d = get_ned()\n",
    "rand = cu.getRandomInteger(nlen)\n",
    "key = H(n.to_bytes(nlen//8, 'big'))\n",
    "klen = len(key)\n",
    "ciphered_key = RSA_OAEP_encode(e, n, key)\n",
    "print(key)"
   ],
   "metadata": {
    "id": "Td_Qg2zlMuRt"
   },
   "execution_count": 28,
   "outputs": [
    {
     "name": "stdout",
     "output_type": "stream",
     "text": [
      "b'\\xc1\\x06\\xe0\\xdc\\x1et?\\xd0\\x1f\\x0c\\xeb \\xfe\\x99X\\xd4\\xe8&L\\xf3\\xe3\\xac\\x02\\xfb\\xdf\\xf9\\x8bZ\\x02\\xfdn%'\n"
     ]
    }
   ]
  },
  {
   "cell_type": "code",
   "execution_count": 29,
   "outputs": [
    {
     "name": "stdout",
     "output_type": "stream",
     "text": [
      "b'\\xc1\\x06\\xe0\\xdc\\x1et?\\xd0\\x1f\\x0c\\xeb \\xfe\\x99X\\xd4\\xe8&L\\xf3\\xe3\\xac\\x02\\xfb\\xdf\\xf9\\x8bZ\\x02\\xfdn%'\n"
     ]
    }
   ],
   "source": [
    "rkey = RSA_OAEP_decode(d, n, ciphered_key, klen)\n",
    "print(rkey)"
   ],
   "metadata": {
    "collapsed": false
   }
  }
 ]
}
