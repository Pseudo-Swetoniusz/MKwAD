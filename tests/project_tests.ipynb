{
 "cells": [
  {
   "cell_type": "code",
   "execution_count": 1,
   "metadata": {
    "collapsed": true
   },
   "outputs": [],
   "source": [
    "from project.KEM import *\n",
    "from project.hash import *\n",
    "from project.polynomial import *"
   ]
  },
  {
   "cell_type": "markdown",
   "source": [
    "# Testy funkcji potrzebnych do generacji kluczy"
   ],
   "metadata": {
    "collapsed": false
   }
  },
  {
   "cell_type": "code",
   "execution_count": 2,
   "outputs": [],
   "source": [
    "d_seeds = get_seeds(SeedPurpose.KEYGEN_SEEDS)"
   ],
   "metadata": {
    "collapsed": false
   }
  },
  {
   "cell_type": "code",
   "execution_count": 3,
   "outputs": [
    {
     "name": "stdout",
     "output_type": "stream",
     "text": [
      "[196 177  64 240 194 198  92 100  18 149  41  63 204 197 114 223  40 191\n",
      "  17 229 220 205 228 215  70 200 167   4  95 195  39 177]\n",
      "[196 177  64 240 194 198  92 100  18 149  41  63 204 197 114 223  40 191\n",
      "  17 229 220 205 228 215  70 200 167   4  95 195  39 177]\n"
     ]
    }
   ],
   "source": [
    "print(d_seeds.s1.raw)\n",
    "print(d_seeds.s2.raw)"
   ],
   "metadata": {
    "collapsed": false
   }
  },
  {
   "cell_type": "code",
   "execution_count": 4,
   "outputs": [],
   "source": [
    "state = shake256_init(d_seeds.s1.raw, ELLSIZE)"
   ],
   "metadata": {
    "collapsed": false
   }
  },
  {
   "cell_type": "code",
   "execution_count": 5,
   "outputs": [
    {
     "name": "stdout",
     "output_type": "stream",
     "text": [
      "SHAstate(buffer=bytearray(b'\\x82\\x03\\xbe\\x95\\xb0\\x9fw\\xc5|2;3\\x0b\\x0f\\x93\\xb9/W\\xd2r\\x1d\\xdb\\xf9\\x89\\x88\\x0c\\xb6\\xd1\\xea\\xc4B\\x18q@\\x06r\\x98\\r\\xcf*\\xb7lT\\x00\\xfd\\xd4\\x0c;IM?\\xb8\\x15\\x0c\\xf6O+>\\xda>\\x1a{t\\xd0\\xe2\\xa5\\x06r\\x81\\xcbjC\\x9b\\x04\\x9e\\xe0\\x9c\\x97\\xad\\xcbLO\\xb3\\xf5\\x92_\\xa4\\xf9\\xcc\\rh\\xee\\x17bNV\\xf8\"\\x84k\\x8fLvV1K\\x89\\xbd\\xbb\\xa7y\\xfc\\xbfJ\\x04\\x05\\xb0\\x03\\x89z$\\xef\\xd1\\xf9\\x04\\xf7\\xe6\\x10n\\xb6\\xa1\\xcc\\xb3\\xb9\\xd3;\\x0e\\xfd1@\\x04\\x13i_\\x1f=\\xb9\\xabE\\x85\\xe5P\\x1d\\xb8\\xdb9Z\\xb5_\\xb4\\x03\\xa6\\xe6\\x19\\xc2\\xff\\xae\\xf1Zy\\x82:-I\\x833\\x8d\\xa3\\xfd\\xd2M\\x8c\\x8bBO\\x02\\xdcXJ\\xaa\\xa0\\xae\\xb1|\\xce\\'\\x81\\x9a\\x07H'), pos=0)\n",
      "200\n"
     ]
    }
   ],
   "source": [
    "print(state)\n",
    "print(len(state.buffer))"
   ],
   "metadata": {
    "collapsed": false
   }
  },
  {
   "cell_type": "code",
   "execution_count": 6,
   "outputs": [],
   "source": [
    "h0 = generate_sparse_rep_keccak(DV, RBITS, state)"
   ],
   "metadata": {
    "collapsed": false
   }
  },
  {
   "cell_type": "code",
   "execution_count": 7,
   "outputs": [],
   "source": [
    "h1 = generate_sparse_rep_keccak(DV, RBITS, state)"
   ],
   "metadata": {
    "collapsed": false
   }
  },
  {
   "cell_type": "code",
   "execution_count": 8,
   "outputs": [
    {
     "name": "stdout",
     "output_type": "stream",
     "text": [
      "[254 255 255 ...   0   0   0]\n"
     ]
    }
   ],
   "source": [
    "print(h0)"
   ],
   "metadata": {
    "collapsed": false
   }
  },
  {
   "cell_type": "code",
   "execution_count": 9,
   "outputs": [
    {
     "name": "stdout",
     "output_type": "stream",
     "text": [
      "[255 255 255 ...   0   0   0]\n"
     ]
    }
   ],
   "source": [
    "print(h1)"
   ],
   "metadata": {
    "collapsed": false
   }
  },
  {
   "cell_type": "markdown",
   "source": [
    "# Test generacji kluczy"
   ],
   "metadata": {
    "collapsed": false
   }
  },
  {
   "cell_type": "code",
   "execution_count": 10,
   "outputs": [],
   "source": [
    "pk, sk = generate_keys()"
   ],
   "metadata": {
    "collapsed": false
   }
  },
  {
   "cell_type": "code",
   "execution_count": 11,
   "outputs": [
    {
     "name": "stdout",
     "output_type": "stream",
     "text": [
      "[ 49 144 230 ... 222 160 146]\n",
      "5122\n"
     ]
    }
   ],
   "source": [
    "print(pk.value)\n",
    "print(len(pk.value))"
   ],
   "metadata": {
    "collapsed": false
   }
  },
  {
   "cell_type": "code",
   "execution_count": 12,
   "outputs": [
    {
     "name": "stdout",
     "output_type": "stream",
     "text": [
      "[254 255 255 ...   0   0   0]\n",
      "5122\n"
     ]
    }
   ],
   "source": [
    "print(sk.val0)\n",
    "print(len(sk.val0))"
   ],
   "metadata": {
    "collapsed": false
   }
  },
  {
   "cell_type": "code",
   "execution_count": 13,
   "outputs": [
    {
     "name": "stdout",
     "output_type": "stream",
     "text": [
      "[255 255 255 ...   0   0   0]\n",
      "5122\n"
     ]
    }
   ],
   "source": [
    "print(sk.val1)\n",
    "print(len(sk.val1))"
   ],
   "metadata": {
    "collapsed": false
   }
  },
  {
   "cell_type": "markdown",
   "source": [
    "# Testy funkcji potrzebnych do enkapsulacji"
   ],
   "metadata": {
    "collapsed": false
   }
  },
  {
   "cell_type": "code",
   "execution_count": 14,
   "outputs": [],
   "source": [
    "d_seeds = get_seeds(SeedPurpose.KEYGEN_SEEDS)"
   ],
   "metadata": {
    "collapsed": false
   }
  },
  {
   "cell_type": "code",
   "execution_count": 15,
   "outputs": [],
   "source": [
    "m = d_seeds.s1.raw\n",
    "e = function_h(m)"
   ],
   "metadata": {
    "collapsed": false
   }
  },
  {
   "cell_type": "code",
   "execution_count": 16,
   "outputs": [
    {
     "name": "stdout",
     "output_type": "stream",
     "text": [
      "10244\n"
     ]
    }
   ],
   "source": [
    "print(len(e))"
   ],
   "metadata": {
    "collapsed": false
   }
  },
  {
   "cell_type": "code",
   "execution_count": 17,
   "outputs": [],
   "source": [
    "l = len(e)-RSIZE"
   ],
   "metadata": {
    "collapsed": false
   }
  },
  {
   "cell_type": "code",
   "execution_count": 18,
   "outputs": [],
   "source": [
    "e0, e1 = split_polynomial(e)"
   ],
   "metadata": {
    "collapsed": false
   }
  },
  {
   "cell_type": "code",
   "execution_count": 19,
   "outputs": [
    {
     "name": "stdout",
     "output_type": "stream",
     "text": [
      "[255 255 255 ...   0   0   0]\n",
      "5122\n",
      "[0 0 0 ... 0 0 0]\n",
      "5122\n"
     ]
    }
   ],
   "source": [
    "print(e0)\n",
    "print(len(e0))\n",
    "print(e1)\n",
    "print(len(e1))"
   ],
   "metadata": {
    "collapsed": false
   }
  },
  {
   "cell_type": "code",
   "execution_count": 20,
   "outputs": [],
   "source": [
    "c0 = poly_add(e0, mod_mul(e1, pk.value))"
   ],
   "metadata": {
    "collapsed": false
   }
  },
  {
   "cell_type": "code",
   "execution_count": 21,
   "outputs": [
    {
     "name": "stdout",
     "output_type": "stream",
     "text": [
      "[250  46 180 ...  73 255  56]\n"
     ]
    }
   ],
   "source": [
    "print(c0)"
   ],
   "metadata": {
    "collapsed": false
   }
  },
  {
   "cell_type": "markdown",
   "source": [
    "# Test działania encapsulacji"
   ],
   "metadata": {
    "collapsed": false
   }
  },
  {
   "cell_type": "code",
   "execution_count": 22,
   "outputs": [],
   "source": [
    "ct, ss = encapsulate(pk)"
   ],
   "metadata": {
    "collapsed": false
   }
  },
  {
   "cell_type": "code",
   "execution_count": 23,
   "outputs": [
    {
     "name": "stdout",
     "output_type": "stream",
     "text": [
      "[177 233  68 ... 120  90 169]\n",
      "[228  21 132  51 115 247   6 236  79 178 174 118 189 209 208 193 138  28\n",
      "  25  52  12   0 117 140 243 113  14  52 119 183 189  53]\n"
     ]
    }
   ],
   "source": [
    "print(ct.val0)\n",
    "print(ct.val1)"
   ],
   "metadata": {
    "collapsed": false
   }
  },
  {
   "cell_type": "code",
   "execution_count": 24,
   "outputs": [
    {
     "name": "stdout",
     "output_type": "stream",
     "text": [
      "[ 43 172  22 242 211 173 228  36 212 252  38 174  33 159 185 162  24 188\n",
      " 157  12 199 119  34 255 153 184  25 233 219 103 186 185]\n"
     ]
    }
   ],
   "source": [
    "print(ss.raw)"
   ],
   "metadata": {
    "collapsed": false
   }
  },
  {
   "cell_type": "markdown",
   "source": [
    "# Testy funkcji potrzebnych do dekapsulacji"
   ],
   "metadata": {
    "collapsed": false
   }
  },
  {
   "cell_type": "code",
   "execution_count": 25,
   "outputs": [],
   "source": [
    "cm0 = convert2compact(sk.val0)"
   ],
   "metadata": {
    "collapsed": false
   }
  },
  {
   "cell_type": "code",
   "execution_count": 26,
   "outputs": [],
   "source": [
    "cm1 = convert2compact(sk.val1)"
   ],
   "metadata": {
    "collapsed": false
   }
  },
  {
   "cell_type": "code",
   "execution_count": 27,
   "outputs": [],
   "source": [
    "syndrome = compute_syndrome(ct, sk)"
   ],
   "metadata": {
    "collapsed": false
   }
  },
  {
   "cell_type": "code",
   "execution_count": 28,
   "outputs": [
    {
     "name": "stdout",
     "output_type": "stream",
     "text": [
      "Syndrome(raw=array([1, 0, 0, ..., 1, 1, 1], dtype=uint8))\n"
     ]
    }
   ],
   "source": [
    "print(syndrome)"
   ],
   "metadata": {
    "collapsed": false
   }
  },
  {
   "cell_type": "code",
   "execution_count": 29,
   "outputs": [],
   "source": [
    "e_t = BGF_decoder(syndrome, cm0, cm1)"
   ],
   "metadata": {
    "collapsed": false
   }
  },
  {
   "cell_type": "code",
   "execution_count": 30,
   "outputs": [
    {
     "name": "stdout",
     "output_type": "stream",
     "text": [
      "(1, array([0, 0, 0, ..., 0, 0, 0], dtype=uint8))\n"
     ]
    }
   ],
   "source": [
    "print(e_t)"
   ],
   "metadata": {
    "collapsed": false
   }
  },
  {
   "cell_type": "code",
   "execution_count": 31,
   "outputs": [],
   "source": [
    "e_p = convertbin2byte(e_t[1], 2 * RBITS)"
   ],
   "metadata": {
    "collapsed": false
   }
  },
  {
   "cell_type": "code",
   "execution_count": 32,
   "outputs": [
    {
     "name": "stdout",
     "output_type": "stream",
     "text": [
      "[0 0 0 ... 0 0 0]\n"
     ]
    }
   ],
   "source": [
    "print(e_p)"
   ],
   "metadata": {
    "collapsed": false
   }
  },
  {
   "cell_type": "code",
   "execution_count": 33,
   "outputs": [],
   "source": [
    "e_l = function_l(e_p)"
   ],
   "metadata": {
    "collapsed": false
   }
  },
  {
   "cell_type": "code",
   "execution_count": 34,
   "outputs": [
    {
     "name": "stdout",
     "output_type": "stream",
     "text": [
      "[185 167  67  76 194 149 115 232 182 114  26 157 211  46 230 126 162 148\n",
      " 155  87  72 184  78 178 157 253  76  78 185 101  57   8]\n"
     ]
    }
   ],
   "source": [
    "print(e_l)"
   ],
   "metadata": {
    "collapsed": false
   }
  },
  {
   "cell_type": "code",
   "execution_count": 35,
   "outputs": [],
   "source": [
    "m_prime = np.zeros(ELLSIZE, dtype=np.uint8)\n",
    "for i in range(ELLSIZE):\n",
    "    m_prime[i] = ct.val1[i] ^ e_l[i]"
   ],
   "metadata": {
    "collapsed": false
   }
  },
  {
   "cell_type": "code",
   "execution_count": 36,
   "outputs": [],
   "source": [
    "e_e = function_h(m_prime)"
   ],
   "metadata": {
    "collapsed": false
   }
  },
  {
   "cell_type": "code",
   "execution_count": 37,
   "outputs": [
    {
     "name": "stdout",
     "output_type": "stream",
     "text": [
      "[255 255 255 ...   0   0   0]\n"
     ]
    }
   ],
   "source": [
    "print(e_e)"
   ],
   "metadata": {
    "collapsed": false
   }
  },
  {
   "cell_type": "code",
   "execution_count": 38,
   "outputs": [],
   "source": [
    "eq = True\n",
    "for i in range(len(e_e)):\n",
    "    if e_e[i] != e_p[i]:\n",
    "        eq = False"
   ],
   "metadata": {
    "collapsed": false
   }
  },
  {
   "cell_type": "code",
   "execution_count": 39,
   "outputs": [
    {
     "name": "stdout",
     "output_type": "stream",
     "text": [
      "False\n"
     ]
    }
   ],
   "source": [
    "print(eq)"
   ],
   "metadata": {
    "collapsed": false
   }
  },
  {
   "cell_type": "code",
   "execution_count": 40,
   "outputs": [],
   "source": [
    "k1 = function_k(m_prime, ct.val0, ct.val1)"
   ],
   "metadata": {
    "collapsed": false
   }
  },
  {
   "cell_type": "code",
   "execution_count": 41,
   "outputs": [],
   "source": [
    "k2 = function_k(sk.sigma, ct.val0, ct.val1)"
   ],
   "metadata": {
    "collapsed": false
   }
  },
  {
   "cell_type": "code",
   "execution_count": 42,
   "outputs": [
    {
     "name": "stdout",
     "output_type": "stream",
     "text": [
      "[ 49  75   8 169 108  18  39  72  53 252 152 233  11 163  16 228  43 100\n",
      " 102 243 114  21 201   5  59 142 137 154  16 111  12 248]\n"
     ]
    }
   ],
   "source": [
    "print(k1)"
   ],
   "metadata": {
    "collapsed": false
   }
  },
  {
   "cell_type": "code",
   "execution_count": 43,
   "outputs": [
    {
     "name": "stdout",
     "output_type": "stream",
     "text": [
      "[ 43 172  22 242 211 173 228  36 212 252  38 174  33 159 185 162  24 188\n",
      " 157  12 199 119  34 255 153 184  25 233 219 103 186 185]\n"
     ]
    }
   ],
   "source": [
    "print(k2)"
   ],
   "metadata": {
    "collapsed": false
   }
  },
  {
   "cell_type": "markdown",
   "source": [
    "# Test działania całości - generowanie kluczy, enkapsulacja, dekapsulacja"
   ],
   "metadata": {
    "collapsed": false
   }
  },
  {
   "cell_type": "code",
   "execution_count": 44,
   "outputs": [],
   "source": [
    "pk, sk = generate_keys()"
   ],
   "metadata": {
    "collapsed": false
   }
  },
  {
   "cell_type": "code",
   "execution_count": 45,
   "outputs": [],
   "source": [
    "ct, ss = encapsulate(pk)"
   ],
   "metadata": {
    "collapsed": false
   }
  },
  {
   "cell_type": "code",
   "execution_count": 46,
   "outputs": [
    {
     "name": "stdout",
     "output_type": "stream",
     "text": [
      "[ 63 117  22 228  64 172  37  61  79 175  50  37  26  87  87 143  63  38\n",
      "   2 121 125  52 239  38 123  62 157 228 106 107 171  41]\n"
     ]
    }
   ],
   "source": [
    "print(ss.raw)"
   ],
   "metadata": {
    "collapsed": false
   }
  },
  {
   "cell_type": "code",
   "execution_count": 47,
   "outputs": [],
   "source": [
    "ss_r = decapsulate(ct, sk)"
   ],
   "metadata": {
    "collapsed": false
   }
  },
  {
   "cell_type": "code",
   "execution_count": 48,
   "outputs": [
    {
     "name": "stdout",
     "output_type": "stream",
     "text": [
      "[ 63 117  22 228  64 172  37  61  79 175  50  37  26  87  87 143  63  38\n",
      "   2 121 125  52 239  38 123  62 157 228 106 107 171  41]\n"
     ]
    }
   ],
   "source": [
    "print(ss_r.raw)"
   ],
   "metadata": {
    "collapsed": false
   }
  }
 ],
 "metadata": {
  "kernelspec": {
   "display_name": "Python 3",
   "language": "python",
   "name": "python3"
  },
  "language_info": {
   "codemirror_mode": {
    "name": "ipython",
    "version": 2
   },
   "file_extension": ".py",
   "mimetype": "text/x-python",
   "name": "python",
   "nbconvert_exporter": "python",
   "pygments_lexer": "ipython2",
   "version": "2.7.6"
  }
 },
 "nbformat": 4,
 "nbformat_minor": 0
}
